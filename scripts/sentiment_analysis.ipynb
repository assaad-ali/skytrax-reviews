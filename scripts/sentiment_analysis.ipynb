{
 "cells": [
  {
   "cell_type": "markdown",
   "metadata": {},
   "source": [
    "### Import necessary libraries"
   ]
  },
  {
   "cell_type": "code",
   "execution_count": 2,
   "metadata": {},
   "outputs": [],
   "source": [
    "import pandas as pd\n",
    "from textblob import TextBlob\n",
    "import os\n",
    "import matplotlib.pyplot as plt\n",
    "import seaborn as sns\n",
    "from loguru import logger"
   ]
  },
  {
   "cell_type": "markdown",
   "metadata": {},
   "source": [
    "### Configure Loguru logger for debugging and tracking"
   ]
  },
  {
   "cell_type": "code",
   "execution_count": 3,
   "metadata": {},
   "outputs": [
    {
     "data": {
      "text/plain": [
       "1"
      ]
     },
     "execution_count": 3,
     "metadata": {},
     "output_type": "execute_result"
    }
   ],
   "source": [
    "logger.add(\n",
    "    \"../logs/sentiment_analysis.log\",\n",
    "    rotation=\"5 MB\",\n",
    "    retention=\"10 days\",\n",
    "    level=\"INFO\",\n",
    "    enqueue=True,\n",
    "    backtrace=True,\n",
    "    diagnose=True\n",
    ")\n"
   ]
  },
  {
   "cell_type": "markdown",
   "metadata": {},
   "source": [
    "### analyze sentiment"
   ]
  },
  {
   "cell_type": "code",
   "execution_count": 4,
   "metadata": {},
   "outputs": [],
   "source": [
    "def analyze_sentiment(text):\n",
    "    try:\n",
    "        blob = TextBlob(text)\n",
    "        return blob.sentiment.polarity  # Sentiment polarity range: -1 (negative) to 1 (positive)\n",
    "    except Exception as e:\n",
    "        logger.error(f\"Error analyzing sentiment: {e}\")\n",
    "        return 0"
   ]
  },
  {
   "cell_type": "markdown",
   "metadata": {},
   "source": [
    "### paths for data loading and saving"
   ]
  },
  {
   "cell_type": "code",
   "execution_count": 6,
   "metadata": {},
   "outputs": [],
   "source": [
    "processed_data_path = '../data/processed_data/british_airways_preprocessed_reviews.csv'\n",
    "analysis_data_path = '../data/analysis/british_airways_reviews_with_sentiment.csv'\n"
   ]
  }
 ],
 "metadata": {
  "kernelspec": {
   "display_name": "skytrax_venv",
   "language": "python",
   "name": "skytrax_venv"
  },
  "language_info": {
   "codemirror_mode": {
    "name": "ipython",
    "version": 3
   },
   "file_extension": ".py",
   "mimetype": "text/x-python",
   "name": "python",
   "nbconvert_exporter": "python",
   "pygments_lexer": "ipython3",
   "version": "3.11.10"
  }
 },
 "nbformat": 4,
 "nbformat_minor": 2
}
