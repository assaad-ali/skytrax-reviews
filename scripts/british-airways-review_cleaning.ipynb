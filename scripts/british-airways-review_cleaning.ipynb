{
 "cells": [
  {
   "cell_type": "markdown",
   "metadata": {},
   "source": [
    "### Import necessary libraries"
   ]
  },
  {
   "cell_type": "code",
   "execution_count": 69,
   "metadata": {},
   "outputs": [],
   "source": [
    "import pandas as pd\n",
    "import re\n",
    "import nltk\n",
    "from sklearn.feature_extraction.text import CountVectorizer\n",
    "import os\n"
   ]
  },
  {
   "cell_type": "markdown",
   "metadata": {},
   "source": [
    "### Download necessary NLTK data files\n"
   ]
  },
  {
   "cell_type": "code",
   "execution_count": 70,
   "metadata": {},
   "outputs": [],
   "source": [
    "venv_path = os.path.join(os.environ['VIRTUAL_ENV'], 'nltk_data')\n",
    "nltk.data.path.append(venv_path)\n"
   ]
  },
  {
   "cell_type": "code",
   "execution_count": 81,
   "metadata": {},
   "outputs": [
    {
     "name": "stderr",
     "output_type": "stream",
     "text": [
      "[nltk_data] Downloading package stopwords to\n",
      "[nltk_data]     /Users/apple/PROJECTS/github/skytrax-\n",
      "[nltk_data]     reviews/skytrax_venv/nltk_data...\n",
      "[nltk_data]   Package stopwords is already up-to-date!\n",
      "[nltk_data] Downloading package punkt_tab to\n",
      "[nltk_data]     /Users/apple/PROJECTS/github/skytrax-\n",
      "[nltk_data]     reviews/skytrax_venv/nltk_data...\n",
      "[nltk_data]   Unzipping tokenizers/punkt_tab.zip.\n",
      "[nltk_data] Downloading package wordnet to\n",
      "[nltk_data]     /Users/apple/PROJECTS/github/skytrax-\n",
      "[nltk_data]     reviews/skytrax_venv/nltk_data...\n",
      "[nltk_data]   Package wordnet is already up-to-date!\n"
     ]
    },
    {
     "data": {
      "text/plain": [
       "True"
      ]
     },
     "execution_count": 81,
     "metadata": {},
     "output_type": "execute_result"
    }
   ],
   "source": [
    "nltk.download('stopwords', download_dir=venv_path)\n",
    "nltk.download('punkt_tab', download_dir=venv_path)\n",
    "nltk.download('wordnet', download_dir=venv_path)"
   ]
  },
  {
   "cell_type": "markdown",
   "metadata": {},
   "source": [
    "### Access NLTK components directly through nltk"
   ]
  },
  {
   "cell_type": "code",
   "execution_count": 82,
   "metadata": {},
   "outputs": [],
   "source": [
    "stopwords = nltk.corpus.stopwords.words('english')\n",
    "word_tokenize = nltk.word_tokenize\n",
    "lemmatizer = nltk.WordNetLemmatizer()"
   ]
  },
  {
   "cell_type": "markdown",
   "metadata": {},
   "source": [
    "### Load dataset"
   ]
  },
  {
   "cell_type": "code",
   "execution_count": 73,
   "metadata": {},
   "outputs": [],
   "source": [
    "df = pd.read_csv(\"../data/raw_data/british_airways_raw_reviews.csv\")\n"
   ]
  },
  {
   "cell_type": "code",
   "execution_count": 74,
   "metadata": {},
   "outputs": [
    {
     "data": {
      "text/html": [
       "<div>\n",
       "<style scoped>\n",
       "    .dataframe tbody tr th:only-of-type {\n",
       "        vertical-align: middle;\n",
       "    }\n",
       "\n",
       "    .dataframe tbody tr th {\n",
       "        vertical-align: top;\n",
       "    }\n",
       "\n",
       "    .dataframe thead th {\n",
       "        text-align: right;\n",
       "    }\n",
       "</style>\n",
       "<table border=\"1\" class=\"dataframe\">\n",
       "  <thead>\n",
       "    <tr style=\"text-align: right;\">\n",
       "      <th></th>\n",
       "      <th>title</th>\n",
       "      <th>author</th>\n",
       "      <th>date</th>\n",
       "      <th>content</th>\n",
       "      <th>type_of_traveller</th>\n",
       "      <th>seat_type</th>\n",
       "      <th>route</th>\n",
       "      <th>date_flown</th>\n",
       "      <th>rating</th>\n",
       "      <th>recommended</th>\n",
       "    </tr>\n",
       "  </thead>\n",
       "  <tbody>\n",
       "    <tr>\n",
       "      <th>0</th>\n",
       "      <td>\"spent two hours trying to make contact with BA\"</td>\n",
       "      <td>Paul Mercer</td>\n",
       "      <td>2024-10-25</td>\n",
       "      <td>✅  Trip Verified  |   On arriving at Mexico Ai...</td>\n",
       "      <td>Business</td>\n",
       "      <td>Business Class</td>\n",
       "      <td>Mexico City to London Heathrow</td>\n",
       "      <td>October 2024</td>\n",
       "      <td>1</td>\n",
       "      <td>no</td>\n",
       "    </tr>\n",
       "    <tr>\n",
       "      <th>1</th>\n",
       "      <td>\"using another airline for future travel\"</td>\n",
       "      <td>M Stansfield</td>\n",
       "      <td>2024-10-24</td>\n",
       "      <td>✅  Trip Verified  |   I have flown British Air...</td>\n",
       "      <td>Solo Leisure</td>\n",
       "      <td>Business Class</td>\n",
       "      <td>Paris to Boston via London</td>\n",
       "      <td>July 2024</td>\n",
       "      <td>1</td>\n",
       "      <td>no</td>\n",
       "    </tr>\n",
       "    <tr>\n",
       "      <th>2</th>\n",
       "      <td>\"oversold tickets on our flight\"</td>\n",
       "      <td>Claude Cahn</td>\n",
       "      <td>2024-10-22</td>\n",
       "      <td>Not Verified  | We bought tickets for a Geneva...</td>\n",
       "      <td>Family Leisure</td>\n",
       "      <td>Economy Class</td>\n",
       "      <td>Geneva to London</td>\n",
       "      <td>September 2024</td>\n",
       "      <td>1</td>\n",
       "      <td>no</td>\n",
       "    </tr>\n",
       "    <tr>\n",
       "      <th>3</th>\n",
       "      <td>“Appalling service”</td>\n",
       "      <td>Peter Mountford</td>\n",
       "      <td>2024-10-14</td>\n",
       "      <td>✅  Trip Verified  |   Appalling service with f...</td>\n",
       "      <td>Business</td>\n",
       "      <td>Business Class</td>\n",
       "      <td>Johannesburg to London</td>\n",
       "      <td>October 2024</td>\n",
       "      <td>1</td>\n",
       "      <td>no</td>\n",
       "    </tr>\n",
       "    <tr>\n",
       "      <th>4</th>\n",
       "      <td>“BA’s petty penny pinching ”</td>\n",
       "      <td>Paul Mercer</td>\n",
       "      <td>2024-10-12</td>\n",
       "      <td>✅  Trip Verified  | British Airways charge you...</td>\n",
       "      <td>Business</td>\n",
       "      <td>Business Class</td>\n",
       "      <td>London to Mexico City</td>\n",
       "      <td>October 2024</td>\n",
       "      <td>6</td>\n",
       "      <td>yes</td>\n",
       "    </tr>\n",
       "  </tbody>\n",
       "</table>\n",
       "</div>"
      ],
      "text/plain": [
       "                                              title           author  \\\n",
       "0  \"spent two hours trying to make contact with BA\"      Paul Mercer   \n",
       "1         \"using another airline for future travel\"     M Stansfield   \n",
       "2                  \"oversold tickets on our flight\"      Claude Cahn   \n",
       "3                               “Appalling service”  Peter Mountford   \n",
       "4                      “BA’s petty penny pinching ”      Paul Mercer   \n",
       "\n",
       "         date                                            content  \\\n",
       "0  2024-10-25  ✅  Trip Verified  |   On arriving at Mexico Ai...   \n",
       "1  2024-10-24  ✅  Trip Verified  |   I have flown British Air...   \n",
       "2  2024-10-22  Not Verified  | We bought tickets for a Geneva...   \n",
       "3  2024-10-14  ✅  Trip Verified  |   Appalling service with f...   \n",
       "4  2024-10-12  ✅  Trip Verified  | British Airways charge you...   \n",
       "\n",
       "  type_of_traveller       seat_type                           route  \\\n",
       "0          Business  Business Class  Mexico City to London Heathrow   \n",
       "1      Solo Leisure  Business Class      Paris to Boston via London   \n",
       "2    Family Leisure   Economy Class                Geneva to London   \n",
       "3          Business  Business Class          Johannesburg to London   \n",
       "4          Business  Business Class           London to Mexico City   \n",
       "\n",
       "       date_flown  rating recommended  \n",
       "0    October 2024       1          no  \n",
       "1       July 2024       1          no  \n",
       "2  September 2024       1          no  \n",
       "3    October 2024       1          no  \n",
       "4    October 2024       6         yes  "
      ]
     },
     "execution_count": 74,
     "metadata": {},
     "output_type": "execute_result"
    }
   ],
   "source": [
    "df.head()"
   ]
  },
  {
   "cell_type": "markdown",
   "metadata": {},
   "source": [
    "### Remove unnecessary text from the 'content' column"
   ]
  },
  {
   "cell_type": "code",
   "execution_count": 75,
   "metadata": {},
   "outputs": [],
   "source": [
    "def clean_text(text):\n",
    "    # Remove both '✅ Trip Verified |' and 'Not Verified |' at the start of the text\n",
    "    text = re.sub(r\"(✅\\s*Trip\\s*Verified\\s*\\|\\s*|Not\\s*Verified\\s*\\|\\s*)\", \"\", text, flags=re.IGNORECASE)\n",
    "    # Remove any remaining punctuation and extra whitespace\n",
    "    text = re.sub(r\"[^\\w\\s]\", \" \", text)  # Keep only word characters and whitespace\n",
    "    text = re.sub(r\"\\s+\", \" \", text)  # Replace multiple spaces with a single space\n",
    "    return text.strip()\n"
   ]
  },
  {
   "cell_type": "markdown",
   "metadata": {},
   "source": [
    "### Make a copy to rpeserve the main data frame"
   ]
  },
  {
   "cell_type": "code",
   "execution_count": 76,
   "metadata": {},
   "outputs": [],
   "source": [
    "df_clean = df.copy()"
   ]
  },
  {
   "cell_type": "markdown",
   "metadata": {},
   "source": [
    "### Apply the cleaning function to the 'content' column\n"
   ]
  },
  {
   "cell_type": "code",
   "execution_count": 77,
   "metadata": {},
   "outputs": [],
   "source": [
    "df_clean['content_cleaned'] = df['content'].apply(clean_text)"
   ]
  },
  {
   "cell_type": "code",
   "execution_count": 78,
   "metadata": {},
   "outputs": [
    {
     "data": {
      "text/html": [
       "<div>\n",
       "<style scoped>\n",
       "    .dataframe tbody tr th:only-of-type {\n",
       "        vertical-align: middle;\n",
       "    }\n",
       "\n",
       "    .dataframe tbody tr th {\n",
       "        vertical-align: top;\n",
       "    }\n",
       "\n",
       "    .dataframe thead th {\n",
       "        text-align: right;\n",
       "    }\n",
       "</style>\n",
       "<table border=\"1\" class=\"dataframe\">\n",
       "  <thead>\n",
       "    <tr style=\"text-align: right;\">\n",
       "      <th></th>\n",
       "      <th>content</th>\n",
       "      <th>content_cleaned</th>\n",
       "    </tr>\n",
       "  </thead>\n",
       "  <tbody>\n",
       "    <tr>\n",
       "      <th>0</th>\n",
       "      <td>✅  Trip Verified  |   On arriving at Mexico Ai...</td>\n",
       "      <td>On arriving at Mexico Airport we were told tha...</td>\n",
       "    </tr>\n",
       "    <tr>\n",
       "      <th>1</th>\n",
       "      <td>✅  Trip Verified  |   I have flown British Air...</td>\n",
       "      <td>I have flown British Airways for many years an...</td>\n",
       "    </tr>\n",
       "    <tr>\n",
       "      <th>2</th>\n",
       "      <td>Not Verified  | We bought tickets for a Geneva...</td>\n",
       "      <td>We bought tickets for a Geneva London flight b...</td>\n",
       "    </tr>\n",
       "    <tr>\n",
       "      <th>3</th>\n",
       "      <td>✅  Trip Verified  |   Appalling service with f...</td>\n",
       "      <td>Appalling service with failing defective fleet...</td>\n",
       "    </tr>\n",
       "    <tr>\n",
       "      <th>4</th>\n",
       "      <td>✅  Trip Verified  | British Airways charge you...</td>\n",
       "      <td>British Airways charge you for the pleasure of...</td>\n",
       "    </tr>\n",
       "  </tbody>\n",
       "</table>\n",
       "</div>"
      ],
      "text/plain": [
       "                                             content  \\\n",
       "0  ✅  Trip Verified  |   On arriving at Mexico Ai...   \n",
       "1  ✅  Trip Verified  |   I have flown British Air...   \n",
       "2  Not Verified  | We bought tickets for a Geneva...   \n",
       "3  ✅  Trip Verified  |   Appalling service with f...   \n",
       "4  ✅  Trip Verified  | British Airways charge you...   \n",
       "\n",
       "                                     content_cleaned  \n",
       "0  On arriving at Mexico Airport we were told tha...  \n",
       "1  I have flown British Airways for many years an...  \n",
       "2  We bought tickets for a Geneva London flight b...  \n",
       "3  Appalling service with failing defective fleet...  \n",
       "4  British Airways charge you for the pleasure of...  "
      ]
     },
     "execution_count": 78,
     "metadata": {},
     "output_type": "execute_result"
    }
   ],
   "source": [
    "df_clean[['content', 'content_cleaned']].head()\n"
   ]
  },
  {
   "cell_type": "markdown",
   "metadata": {},
   "source": [
    "### Tokenize the text, remove stopwords, and lemmatize words"
   ]
  },
  {
   "cell_type": "code",
   "execution_count": 79,
   "metadata": {},
   "outputs": [],
   "source": [
    "def preprocess_text(text):\n",
    "    words = word_tokenize(text.lower())  # Tokenize and lowercase\n",
    "    words = [lemmatizer.lemmatize(word) for word in words if word not in stopwords]  # Lemmatize & remove stopwords\n",
    "    return \" \".join(words)"
   ]
  },
  {
   "cell_type": "markdown",
   "metadata": {},
   "source": [
    "### preprocess the 'content' column\n"
   ]
  },
  {
   "cell_type": "code",
   "execution_count": 83,
   "metadata": {},
   "outputs": [],
   "source": [
    "df_clean['content_preprocessed'] = df_clean['content_cleaned'].apply(preprocess_text)"
   ]
  },
  {
   "cell_type": "code",
   "execution_count": 88,
   "metadata": {},
   "outputs": [
    {
     "data": {
      "text/html": [
       "<div>\n",
       "<style scoped>\n",
       "    .dataframe tbody tr th:only-of-type {\n",
       "        vertical-align: middle;\n",
       "    }\n",
       "\n",
       "    .dataframe tbody tr th {\n",
       "        vertical-align: top;\n",
       "    }\n",
       "\n",
       "    .dataframe thead th {\n",
       "        text-align: right;\n",
       "    }\n",
       "</style>\n",
       "<table border=\"1\" class=\"dataframe\">\n",
       "  <thead>\n",
       "    <tr style=\"text-align: right;\">\n",
       "      <th></th>\n",
       "      <th>content_cleaned</th>\n",
       "      <th>content_preprocessed</th>\n",
       "    </tr>\n",
       "  </thead>\n",
       "  <tbody>\n",
       "    <tr>\n",
       "      <th>635</th>\n",
       "      <td>I used British Airways for the first time and ...</td>\n",
       "      <td>used british airway first time admit impressed...</td>\n",
       "    </tr>\n",
       "    <tr>\n",
       "      <th>252</th>\n",
       "      <td>My family flew from Washington to London on a ...</td>\n",
       "      <td>family flew washington london british airway a...</td>\n",
       "    </tr>\n",
       "  </tbody>\n",
       "</table>\n",
       "</div>"
      ],
      "text/plain": [
       "                                       content_cleaned  \\\n",
       "635  I used British Airways for the first time and ...   \n",
       "252  My family flew from Washington to London on a ...   \n",
       "\n",
       "                                  content_preprocessed  \n",
       "635  used british airway first time admit impressed...  \n",
       "252  family flew washington london british airway a...  "
      ]
     },
     "execution_count": 88,
     "metadata": {},
     "output_type": "execute_result"
    }
   ],
   "source": [
    "df_clean[['content_cleaned', 'content_preprocessed']].sample(2)"
   ]
  },
  {
   "cell_type": "code",
   "execution_count": null,
   "metadata": {},
   "outputs": [],
   "source": []
  }
 ],
 "metadata": {
  "kernelspec": {
   "display_name": "skytrax_venv",
   "language": "python",
   "name": "skytrax_venv"
  },
  "language_info": {
   "codemirror_mode": {
    "name": "ipython",
    "version": 3
   },
   "file_extension": ".py",
   "mimetype": "text/x-python",
   "name": "python",
   "nbconvert_exporter": "python",
   "pygments_lexer": "ipython3",
   "version": "3.11.10"
  }
 },
 "nbformat": 4,
 "nbformat_minor": 2
}
