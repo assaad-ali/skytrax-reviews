{
 "cells": [
  {
   "cell_type": "code",
   "execution_count": 6,
   "metadata": {},
   "outputs": [],
   "source": [
    "import pandas as pd\n",
    "from gensim import corpora, models\n",
    "import os\n",
    "from loguru import logger"
   ]
  },
  {
   "cell_type": "markdown",
   "metadata": {},
   "source": [
    "### Configure Loguru logger"
   ]
  },
  {
   "cell_type": "code",
   "execution_count": 7,
   "metadata": {},
   "outputs": [
    {
     "data": {
      "text/plain": [
       "1"
      ]
     },
     "execution_count": 7,
     "metadata": {},
     "output_type": "execute_result"
    }
   ],
   "source": [
    "logger.add(\n",
    "    \"../logs/topic_modeling.log\",\n",
    "    rotation=\"5 MB\",\n",
    "    retention=\"10 days\",\n",
    "    level=\"INFO\",\n",
    "    enqueue=True,\n",
    "    backtrace=True,\n",
    "    diagnose=True\n",
    ")\n"
   ]
  },
  {
   "cell_type": "markdown",
   "metadata": {},
   "source": [
    "### file paths"
   ]
  },
  {
   "cell_type": "code",
   "execution_count": 8,
   "metadata": {},
   "outputs": [],
   "source": [
    "processed_data_path = \"../data/processed/british_airways_processed_reviews.csv\"\n",
    "topic_model_path = \"../data/analysis/british_airways_topic_model.model\"\n",
    "lda_visualization_path = \"../data/analysis/lda_visualization.html\"\n",
    "topics_plot_dir = \"../data/analysis/topic_plots/\""
   ]
  },
  {
   "cell_type": "markdown",
   "metadata": {},
   "source": [
    "### Ensure analysis directories exist"
   ]
  },
  {
   "cell_type": "code",
   "execution_count": 9,
   "metadata": {},
   "outputs": [],
   "source": [
    "\n",
    "os.makedirs(\"../data/analysis/\", exist_ok=True)\n",
    "os.makedirs(topics_plot_dir, exist_ok=True)"
   ]
  },
  {
   "cell_type": "code",
   "execution_count": 11,
   "metadata": {},
   "outputs": [
    {
     "name": "stderr",
     "output_type": "stream",
     "text": [
      "\u001b[32m2024-11-01 23:11:25.579\u001b[0m | \u001b[1mINFO    \u001b[0m | \u001b[36m__main__\u001b[0m:\u001b[36m<module>\u001b[0m:\u001b[36m2\u001b[0m - \u001b[1mLoaded processed data with 2000 reviews.\u001b[0m\n"
     ]
    }
   ],
   "source": [
    "df = pd.read_csv(processed_data_path)\n",
    "logger.info(f\"Loaded processed data with {len(df)} reviews.\")"
   ]
  },
  {
   "cell_type": "markdown",
   "metadata": {},
   "source": [
    "### Reconstruct tokens list from 'tokens_str'"
   ]
  },
  {
   "cell_type": "code",
   "execution_count": 12,
   "metadata": {},
   "outputs": [],
   "source": [
    "df['tokens'] = df['tokens_str'].apply(lambda x: x.split())"
   ]
  },
  {
   "cell_type": "markdown",
   "metadata": {},
   "source": [
    "### Create a dictionary and corpus"
   ]
  },
  {
   "cell_type": "code",
   "execution_count": 13,
   "metadata": {},
   "outputs": [
    {
     "name": "stderr",
     "output_type": "stream",
     "text": [
      "\u001b[32m2024-11-01 23:12:08.839\u001b[0m | \u001b[1mINFO    \u001b[0m | \u001b[36m__main__\u001b[0m:\u001b[36m<module>\u001b[0m:\u001b[36m1\u001b[0m - \u001b[1mCreating dictionary and corpus for LDA.\u001b[0m\n"
     ]
    }
   ],
   "source": [
    "logger.info(\"Creating dictionary and corpus for LDA.\")\n",
    "dictionary = corpora.Dictionary(df['tokens'])\n",
    "corpus = [dictionary.doc2bow(text) for text in df['tokens']]"
   ]
  },
  {
   "cell_type": "markdown",
   "metadata": {},
   "source": [
    "### Build LDA model"
   ]
  },
  {
   "cell_type": "code",
   "execution_count": 14,
   "metadata": {},
   "outputs": [
    {
     "name": "stderr",
     "output_type": "stream",
     "text": [
      "\u001b[32m2024-11-01 23:12:39.946\u001b[0m | \u001b[1mINFO    \u001b[0m | \u001b[36m__main__\u001b[0m:\u001b[36m<module>\u001b[0m:\u001b[36m2\u001b[0m - \u001b[1mBuilding LDA model with 5 topics.\u001b[0m\n"
     ]
    }
   ],
   "source": [
    "num_topics = 5\n",
    "logger.info(f\"Building LDA model with {num_topics} topics.\")\n",
    "lda_model = models.LdaModel(corpus, num_topics=num_topics, id2word=dictionary, passes=10)        "
   ]
  },
  {
   "cell_type": "markdown",
   "metadata": {},
   "source": [
    "### Save the LDA model"
   ]
  },
  {
   "cell_type": "code",
   "execution_count": 15,
   "metadata": {},
   "outputs": [
    {
     "name": "stderr",
     "output_type": "stream",
     "text": [
      "\u001b[32m2024-11-01 23:13:43.022\u001b[0m | \u001b[1mINFO    \u001b[0m | \u001b[36m__main__\u001b[0m:\u001b[36m<module>\u001b[0m:\u001b[36m2\u001b[0m - \u001b[1mLDA model saved to ../data/analysis/british_airways_topic_model.model\u001b[0m\n"
     ]
    }
   ],
   "source": [
    "lda_model.save(topic_model_path)\n",
    "logger.info(f\"LDA model saved to {topic_model_path}\")"
   ]
  },
  {
   "cell_type": "markdown",
   "metadata": {},
   "source": [
    "### Display the topics"
   ]
  },
  {
   "cell_type": "code",
   "execution_count": 17,
   "metadata": {},
   "outputs": [
    {
     "data": {
      "text/plain": [
       "[('flight', 0.025005186),\n",
       " ('ba', 0.0166024),\n",
       " ('seat', 0.0162356),\n",
       " ('service', 0.010721413),\n",
       " ('crew', 0.009008567),\n",
       " ('food', 0.009003725),\n",
       " ('class', 0.008843072),\n",
       " ('cabin', 0.008061493),\n",
       " ('good', 0.0077409046),\n",
       " ('business', 0.0073857973)]"
      ]
     },
     "metadata": {},
     "output_type": "display_data"
    },
    {
     "data": {
      "text/plain": [
       "[('flight', 0.028360238),\n",
       " ('ba', 0.016220031),\n",
       " ('hour', 0.010988692),\n",
       " ('customer', 0.010270344),\n",
       " ('service', 0.009836239),\n",
       " ('told', 0.009042205),\n",
       " ('day', 0.0088401),\n",
       " ('london', 0.008535932),\n",
       " ('u', 0.008103978),\n",
       " ('airline', 0.0077981334)]"
      ]
     },
     "metadata": {},
     "output_type": "display_data"
    },
    {
     "data": {
      "text/plain": [
       "[('flight', 0.032481782),\n",
       " ('ba', 0.020719457),\n",
       " ('british', 0.010968167),\n",
       " ('airway', 0.010749453),\n",
       " ('ticket', 0.008358165),\n",
       " ('airline', 0.008239848),\n",
       " ('customer', 0.007918527),\n",
       " ('service', 0.0074725347),\n",
       " ('london', 0.007205171),\n",
       " ('cancelled', 0.006874632)]"
      ]
     },
     "metadata": {},
     "output_type": "display_data"
    },
    {
     "data": {
      "text/plain": [
       "[('flight', 0.02192964),\n",
       " ('time', 0.009269192),\n",
       " ('british', 0.00827848),\n",
       " ('ba', 0.008220757),\n",
       " ('airway', 0.007953745),\n",
       " ('seat', 0.007949523),\n",
       " ('staff', 0.007754319),\n",
       " ('hour', 0.007492683),\n",
       " ('london', 0.007338516),\n",
       " ('crew', 0.006786641)]"
      ]
     },
     "metadata": {},
     "output_type": "display_data"
    },
    {
     "data": {
      "text/plain": [
       "[('seat', 0.012894462),\n",
       " ('flight', 0.010891676),\n",
       " ('food', 0.009450885),\n",
       " ('ba', 0.008108108),\n",
       " ('crew', 0.00786671),\n",
       " ('good', 0.007348561),\n",
       " ('london', 0.006552466),\n",
       " ('cabin', 0.0064574876),\n",
       " ('service', 0.00641648),\n",
       " ('aircraft', 0.006025679)]"
      ]
     },
     "metadata": {},
     "output_type": "display_data"
    }
   ],
   "source": [
    "for idx, topic in lda_model.print_topics(-1):\n",
    "    # logger.info(f\"Topic {idx}: {topic}\")\n",
    "    display(lda_model.show_topic(idx))"
   ]
  }
 ],
 "metadata": {
  "kernelspec": {
   "display_name": "Skytrax Venv",
   "language": "python",
   "name": "skytrax_venv"
  },
  "language_info": {
   "codemirror_mode": {
    "name": "ipython",
    "version": 3
   },
   "file_extension": ".py",
   "mimetype": "text/x-python",
   "name": "python",
   "nbconvert_exporter": "python",
   "pygments_lexer": "ipython3",
   "version": "3.12.7"
  }
 },
 "nbformat": 4,
 "nbformat_minor": 2
}
